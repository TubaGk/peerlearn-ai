{
 "cells": [
  {
   "cell_type": "code",
   "execution_count": null,
   "id": "36fedce1",
   "metadata": {},
   "outputs": [
    {
     "name": "stdout",
     "output_type": "stream",
     "text": [
      " * Serving Flask app '__main__'\n",
      " * Debug mode: on\n"
     ]
    },
    {
     "name": "stderr",
     "output_type": "stream",
     "text": [
      "WARNING: This is a development server. Do not use it in a production deployment. Use a production WSGI server instead.\n",
      " * Running on http://127.0.0.1:5000\n",
      "Press CTRL+C to quit\n",
      "127.0.0.1 - - [05/May/2025 21:44:15] \"GET / HTTP/1.1\" 200 -\n",
      "127.0.0.1 - - [05/May/2025 21:44:15] \"GET /favicon.ico HTTP/1.1\" 404 -\n"
     ]
    }
   ],
   "source": [
    "\n",
    "from flask import Flask, render_template\n",
    "import pandas as pd\n",
    "import matplotlib.pyplot as plt\n",
    "import io\n",
    "import base64\n",
    "from threading import Thread\n",
    "\n",
    "app = Flask(__name__)\n",
    "\n",
    "# Mock öğrenci verisi\n",
    "data = [\n",
    "    {\"Ad\": \"Aylin Demir\", \"Sınıf\": 10, \"Puan\": 4.5, \"Anlatım Sayısı\": 3, \"Eşleşme Sayısı\": 2},\n",
    "    {\"Ad\": \"Emir Yılmaz\", \"Sınıf\": 10, \"Puan\": 4.8, \"Anlatım Sayısı\": 5, \"Eşleşme Sayısı\": 4},\n",
    "    {\"Ad\": \"Zeynep Kaya\", \"Sınıf\": 11, \"Puan\": 4.9, \"Anlatım Sayısı\": 2, \"Eşleşme Sayısı\": 1},\n",
    "    {\"Ad\": \"Furkan Şahin\", \"Sınıf\": 11, \"Puan\": 4.7, \"Anlatım Sayısı\": 4, \"Eşleşme Sayısı\": 3},\n",
    "]\n",
    "df = pd.DataFrame(data)\n",
    "\n",
    "@app.route('/')\n",
    "def index():\n",
    "    return render_template('index.html', data=df.to_dict(orient='records'))\n",
    "\n",
    "@app.route('/class/<int:selected_class>')\n",
    "def filter_class(selected_class):\n",
    "    filtered_df = df[df['Sınıf'] == selected_class]\n",
    "    return render_template('index.html', data=filtered_df.to_dict(orient='records'))\n",
    "\n",
    "@app.route('/plot/puan')\n",
    "def plot_puan():\n",
    "    fig, ax = plt.subplots()\n",
    "    ax.bar(df['Ad'], df['Puan'])\n",
    "    ax.set_title(\"Ortalama Puan Dağılımı\")\n",
    "    ax.set_xlabel(\"Öğrenciler\")\n",
    "    ax.set_ylabel(\"Puan\")\n",
    "    \n",
    "    # Görselleştirmeyi base64 formatında kaydet\n",
    "    img = io.BytesIO()\n",
    "    fig.savefig(img, format='png')\n",
    "    img.seek(0)\n",
    "    img_base64 = base64.b64encode(img.getvalue()).decode()\n",
    "    return render_template('plot.html', plot_url=img_base64)\n",
    "\n",
    "@app.route('/plot/anlatim')\n",
    "def plot_anlatim():\n",
    "    fig, ax = plt.subplots()\n",
    "    ax.plot(df['Ad'], df['Anlatım Sayısı'])\n",
    "    ax.set_title(\"Anlatım Aktivitesi\")\n",
    "    ax.set_xlabel(\"Öğrenciler\")\n",
    "    ax.set_ylabel(\"Anlatım Sayısı\")\n",
    "    \n",
    "    # Görselleştirmeyi base64 formatında kaydet\n",
    "    img = io.BytesIO()\n",
    "    fig.savefig(img, format='png')\n",
    "    img.seek(0)\n",
    "    img_base64 = base64.b64encode(img.getvalue()).decode()\n",
    "    return render_template('plot.html', plot_url=img_base64)\n",
    "\n",
    "def run_flask():\n",
    "    app.run(debug=True, use_reloader=False, threaded=True)  # Jupyter ile uyumlu olması için `use_reloader=False` kullanın.\n",
    "\n",
    "# Flask uygulamanızı bir ayrı thread üzerinde çalıştırma\n",
    "flask_thread = Thread(target=run_flask)\n",
    "flask_thread.start()\n"
   ]
  }
 ],
 "metadata": {
  "kernelspec": {
   "display_name": "Python 3",
   "language": "python",
   "name": "python3"
  },
  "language_info": {
   "codemirror_mode": {
    "name": "ipython",
    "version": 3
   },
   "file_extension": ".py",
   "mimetype": "text/x-python",
   "name": "python",
   "nbconvert_exporter": "python",
   "pygments_lexer": "ipython3",
   "version": "3.11.4"
  }
 },
 "nbformat": 4,
 "nbformat_minor": 5
}
